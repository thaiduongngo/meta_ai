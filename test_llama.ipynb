{
 "cells": [
  {
   "cell_type": "code",
   "execution_count": 1,
   "id": "4230c87a-fcbb-465a-b4f0-e63e72f06445",
   "metadata": {},
   "outputs": [],
   "source": [
    "# !pip install ollama jupyter -U"
   ]
  },
  {
   "cell_type": "code",
   "execution_count": 2,
   "id": "60497f0a-2410-41a0-a434-13990f222673",
   "metadata": {},
   "outputs": [],
   "source": [
    "import requests\n",
    "import json\n",
    "import ollama\n",
    "from IPython import display"
   ]
  },
  {
   "cell_type": "markdown",
   "id": "ace449c3-6361-401b-bac3-d8c7d3ed273b",
   "metadata": {},
   "source": [
    "**Documentation**:\n",
    "https://github.com/ollama/ollama/tree/main/docs"
   ]
  },
  {
   "cell_type": "code",
   "execution_count": 3,
   "id": "2cc63d96-f4d9-42db-b0d1-b608c7e7cc3a",
   "metadata": {},
   "outputs": [],
   "source": [
    "text = \"\"\"\n",
    "Meta thông báo mở rộng công cụ Meta AI, hoạt động tương tự ChatGPT, đến 21 quốc gia mới, trong đó có thị trường Việt Nam.\n",
    "Ngày 9/10, công ty mẹ của Facebook cho biết bộ tính năng Meta AI đã có mặt tại Brazil, Bolivia, Guatemala, Paraguay, Philippines và Anh, còn những nơi khác như Việt Nam sẽ được triển khai trong vài tuần tới.\n",
    "Công cụ sẽ hỗ trợ tương tác bằng tiếng Việt, được tích hợp bên trong Facebook, Instagram, WhatsApp và Messenger. Người dùng chỉ cần chạm vào biểu tượng Meta AI hoặc nhập \"@Meta AI\" vào cuộc trò chuyện nhóm để sử dụng, hoặc thông qua website meta.ai.\n",
    "Trước đó, tại Ngày hội Đổi mới sáng tạo Việt Nam ở Hà Nội sáng 1/10, Nick Clegg, Chủ tịch phụ trách Đối ngoại toàn cầu Meta, cho biết: \"Chúng tôi tự hào là công ty công nghệ lớn duy nhất tại Thung lũng Silicon cung cấp công cụ AI miễn phí cho người dùng Việt\".\n",
    "Meta AI, được triển khai đầu tiên ở Mỹ và hơn 20 thị trường hồi tháng 7, hoạt động dưới dạng chatbot tương tự ChatGPT nhưng sử dụng mô hình ngôn ngữ lớn LLaMA. Người dùng có thể trò chuyện với chatbot về nhiều chủ đề, như yêu cầu gợi ý địa điểm tham quan, tạo hình ảnh qua lời nhắc văn bản. AI cũng cho phép người dùng tìm hiểu thông tin chi tiết về một bài đăng mà họ thấy trên Facebook hoặc Instagram.\n",
    "Với 21 thị trường mới, Meta AI được cung cấp ở tổng cộng 43 quốc gia và vùng lãnh thổ, hỗ trợ hàng chục ngôn ngữ bản địa. \"Có nghĩa rất nhiều người sử dụng Meta AI để tìm hiểu về các chủ đề họ quan tâm, nhận hướng dẫn hữu ích hoặc tìm cảm hứng cho các dự án nghệ thuật, trang trí nhà cửa và hơn thế nữa\", công ty cho biết.\n",
    "\"\"\"\n",
    "\n",
    "# LLM options\n",
    "llm_options = {\n",
    "    \"temperature\": 0,\n",
    "    \"num_ctx\": 2048,\n",
    "    \"num_predict\": 4096,\n",
    "    \"top_k\": 20,\n",
    "    \"top_p\": 0.95,\n",
    "}\n",
    "\n",
    "# Do \"ollama pull' to fetch a model to local. E.g: ollama pull llama3.1\n",
    "llama_1b = \"llama3.2:1b\"\n",
    "llama_3b = \"llama3.2:3b\"\n",
    "llama_8b = \"llama3.1:8b\"\n",
    "gemma2 = \"gemma2\"\n",
    "mistral = \"mistral\""
   ]
  },
  {
   "cell_type": "code",
   "execution_count": 4,
   "id": "6e9a4c1f-dbf9-493f-94ee-a1912eab47e9",
   "metadata": {},
   "outputs": [],
   "source": [
    "# Call via REST API\n",
    "def gen_content(\n",
    "    prompts:[str],\n",
    "    system_prompt:str=None,\n",
    "    model:str=\"llama3.2\",\n",
    "    options:{}=None) -> str:\n",
    "\n",
    "    url = \"http://localhost:11434/api/chat\"\n",
    "    messages = []\n",
    "    if system_prompt is not None:\n",
    "        messages.append(\n",
    "            {\n",
    "                \"role\": \"system\",\n",
    "                \"content\": system_prompt\n",
    "            }\n",
    "        )\n",
    "\n",
    "    for prompt in prompts:\n",
    "        messages.append(\n",
    "            {\n",
    "                \"role\": \"user\",\n",
    "                \"content\": prompt\n",
    "            }\n",
    "        )\n",
    "    \n",
    "    data = {\n",
    "        \"model\": model,\n",
    "        \"messages\": messages,\n",
    "        \"stream\": False,\n",
    "        \"options\": options\n",
    "    }\n",
    "    \n",
    "    headers = {\n",
    "        \"Content-Type\": \"application/json\"\n",
    "    }\n",
    "    \n",
    "    res = requests.post(\n",
    "        url=url,\n",
    "        headers=headers,\n",
    "        json=data\n",
    "    )\n",
    "    \n",
    "    return res.json()[\"message\"][\"content\"]\n",
    "\n",
    "\n",
    "def gen_content_direct_api(\n",
    "    prompts:[str],\n",
    "    system_prompt:str=None,\n",
    "    model: str=\"llama3.2\",\n",
    "    options:{}=None) -> str:\n",
    "    \n",
    "    messages = []\n",
    "\n",
    "    if system_prompt is not None:\n",
    "        messages.append(\n",
    "            {\n",
    "                \"role\": \"system\",\n",
    "                \"content\": system_prompt\n",
    "            }\n",
    "        )\n",
    "\n",
    "    for prompt in prompts:\n",
    "        messages.append(\n",
    "            {\n",
    "                \"role\": \"user\",\n",
    "                \"content\": prompt\n",
    "            }\n",
    "        )\n",
    "\n",
    "    res = ollama.chat(\n",
    "        model=model,\n",
    "        messages=messages,\n",
    "        options=options,\n",
    "        stream=False\n",
    "    )\n",
    "\n",
    "    return res['message']['content']"
   ]
  },
  {
   "cell_type": "code",
   "execution_count": 5,
   "id": "080c46c4-9b9a-4252-9b6e-3657e3d28262",
   "metadata": {},
   "outputs": [
    {
     "data": {
      "text/markdown": [
       "Meta thông báo mở rộng công cụ Meta AI đến 21 quốc gia mới, trong đó có thị trường Việt Nam. Công cụ này sẽ hỗ trợ tương tác bằng tiếng Việt, được tích hợp bên trong Facebook, Instagram, WhatsApp và Messenger. Người dùng chỉ cần chạm vào biểu tượng Meta AI hoặc nhập \"@Meta AI\" vào cuộc trò chuyện nhóm để sử dụng."
      ],
      "text/plain": [
       "<IPython.core.display.Markdown object>"
      ]
     },
     "execution_count": 5,
     "metadata": {},
     "output_type": "execute_result"
    }
   ],
   "source": [
    "response = gen_content(\n",
    "    prompts=[text, \"Tóm tắt văn bản trên:\"],\n",
    "    model=llama_1b,\n",
    "    options=llm_options\n",
    ")\n",
    "\n",
    "display.Markdown(response)"
   ]
  },
  {
   "cell_type": "code",
   "execution_count": 6,
   "id": "359ed5d8-13b3-4545-bc48-7b2913f6344a",
   "metadata": {},
   "outputs": [
    {
     "data": {
      "text/markdown": [
       "Meta đã mở rộng công cụ Meta AI đến 21 quốc gia mới, trong đó có thị trường Việt Nam. Công cụ này sẽ hỗ trợ tương tác bằng tiếng Việt và được tích hợp bên trong các ứng dụng của Facebook, Instagram, WhatsApp và Messenger. Người dùng có thể sử dụng Meta AI để trò chuyện với chatbot về nhiều chủ đề, tìm hiểu thông tin chi tiết về các bài đăng trên Facebook hoặc Instagram, và nhận hướng dẫn hữu ích."
      ],
      "text/plain": [
       "<IPython.core.display.Markdown object>"
      ]
     },
     "execution_count": 6,
     "metadata": {},
     "output_type": "execute_result"
    }
   ],
   "source": [
    "response = gen_content(\n",
    "    prompts=[text, \"Tóm tắt văn bản trên:\"],\n",
    "    model=llama_3b,\n",
    "    options=llm_options\n",
    ")\n",
    "\n",
    "display.Markdown(response)"
   ]
  },
  {
   "cell_type": "code",
   "execution_count": 7,
   "id": "ba3221db-c90f-4887-a3b3-69cee5355c40",
   "metadata": {},
   "outputs": [
    {
     "data": {
      "text/markdown": [
       "WAAAAAAAHHH!!! *flails arms* Eeeeeee! *makes high-pitched squealing noise* Oooooh... *closes eyes and makes a gurgling sound*"
      ],
      "text/plain": [
       "<IPython.core.display.Markdown object>"
      ]
     },
     "execution_count": 7,
     "metadata": {},
     "output_type": "execute_result"
    }
   ],
   "source": [
    "response = ollama.generate(\n",
    "    model=llama_3b,\n",
    "    prompt=\"Why is the sea blue?\",\n",
    "    system=\"You are a 3 months old baby. You can only cry and make some random sounds.\",\n",
    "    options=llm_options\n",
    ")\n",
    "\n",
    "display.Markdown(response[\"response\"])"
   ]
  },
  {
   "cell_type": "code",
   "execution_count": 8,
   "id": "bc7ec648-9151-41c7-a1c4-87ec4b96b4d2",
   "metadata": {},
   "outputs": [
    {
     "data": {
      "text/markdown": [
       "The sea looks blue because of something called light scattering.\n",
       "\n",
       "When sunlight enters the ocean, it hits tiny particles in the water like tiny plants, tiny animals, and even tiny bits of sand. These particles are so small that they scatter the light in all directions.\n",
       "\n",
       "Now, here's the important part: the shorter (blue) wavelengths of light get scattered more than the longer (red) wavelengths. That means that the blue light is bounced around everywhere, making the sea look blue to our eyes!\n",
       "\n",
       "Think of it like a big game of catch with tiny particles and light. The blue light gets caught up in all the scattering and bouncing around, so we see mostly blue when we look at the ocean.\n",
       "\n",
       "But here's the cool thing: if you go really deep into the ocean, where there's not as much sunlight, the water can start to look green or even black! That's because the longer wavelengths of light (like red and orange) have a chance to travel deeper without getting scattered, so we see those colors instead.\n",
       "\n",
       "So, that's why the sea looks blue!"
      ],
      "text/plain": [
       "<IPython.core.display.Markdown object>"
      ]
     },
     "execution_count": 8,
     "metadata": {},
     "output_type": "execute_result"
    }
   ],
   "source": [
    "response = gen_content_direct_api(\n",
    "    prompts=[\"Why is the sea blue?\"],\n",
    "    system_prompt=\"Answer and explain for a 5th grader.\",\n",
    "    model=llama_8b,\n",
    "    options=llm_options\n",
    ")\n",
    "\n",
    "display.Markdown(response)"
   ]
  },
  {
   "cell_type": "code",
   "execution_count": 9,
   "id": "25aa633a-ff8f-4250-8156-fea59b3f756c",
   "metadata": {},
   "outputs": [
    {
     "data": {
      "text/markdown": [
       "Bầu trời có màu xanh do một hiện tượng gọi là **sự tán xạ Rayleigh**.\n",
       "\n",
       "**Sự giải thích đơn giản:**\n",
       "\n",
       "* Ánh sáng mặt trời là hỗn hợp của nhiều màu sắc khác nhau (tạo thành cầu vồng). \n",
       "* Khi ánh sáng đi qua bầu khí quyển, nó va chạm với các phân tử không khí nhỏ như nitơ và oxy.\n",
       "* Các phân tử này tán xạ ánh sáng có bước sóng ngắn hơn (ánh sáng xanh) nhiều hơn so với ánh sáng có bước sóng dài hơn (ánh sáng đỏ).\n",
       "\n",
       "Vì vậy, khi nhìn lên bầu trời, mắt chúng ta nhận thấy chủ yếu là ánh sáng xanh được tán xạ bởi các phân tử không khí.\n",
       "\n",
       "**Một số chi tiết thêm:**\n",
       "\n",
       "* Bầu trời có màu đỏ lúc bình minh và hoàng hôn vì ánh sáng phải đi qua một quãng đường dài hơn trong khí quyển. Ánh sáng xanh bị tán xạ nhiều hơn, để lại ánh sáng đỏ và vàng.\n",
       "* Màu xanh của bầu trời cũng có thể thay đổi tùy thuộc vào độ cao, lượng bụi và các hạt trong không khí.\n",
       "\n",
       "Hy vọng giải thích này giúp bạn hiểu rõ hơn về màu xanh của bầu trời!"
      ],
      "text/plain": [
       "<IPython.core.display.Markdown object>"
      ]
     },
     "execution_count": 9,
     "metadata": {},
     "output_type": "execute_result"
    }
   ],
   "source": [
    "response = gen_content_direct_api(\n",
    "    prompts=[\"Tại sao bầu trời có màu xanh?\"],\n",
    "    model=gemma2,\n",
    ")\n",
    "\n",
    "display.Markdown(response)"
   ]
  },
  {
   "cell_type": "code",
   "execution_count": 10,
   "id": "2ef4ead5-1bf7-4cba-828c-cf5f027d26bd",
   "metadata": {},
   "outputs": [
    {
     "data": {
      "text/markdown": [
       "Phương trình đã cho là phương trình bậc hai, ta có thể giải bằng công thức nghiệm:\n",
       "\n",
       "**Công thức nghiệm:**\n",
       "\n",
       "Cho phương trình bậc hai ax² + bx + c = 0 (a ≠ 0), nghiệm của phương trình được tính bởi công thức:\n",
       "\n",
       "x = (-b ± √(b² - 4ac)) / 2a\n",
       "\n",
       "**Áp dụng vào bài toán:**\n",
       "\n",
       "1. **Xác định hệ số:**\n",
       "   - a = 1\n",
       "   - b = 7\n",
       "   - c = -3\n",
       "\n",
       "2. **Thay vào công thức nghiệm:**\n",
       "   x = (-7 ± √(7² - 4 * 1 * -3)) / (2 * 1)\n",
       "   x = (-7 ± √(49 + 12)) / 2\n",
       "   x = (-7 ± √61) / 2\n",
       "\n",
       "3. **Hai nghiệm của phương trình:**\n",
       "   - x₁ = (-7 + √61) / 2\n",
       "   - x₂ = (-7 - √61) / 2\n",
       "\n",
       "\n",
       "Vậy, các nghiệm của phương trình x² + 7x - 3 = 0 là:\n",
       "\n",
       "**x = (-7 + √61) / 2  và x = (-7 - √61) / 2**"
      ],
      "text/plain": [
       "<IPython.core.display.Markdown object>"
      ]
     },
     "execution_count": 10,
     "metadata": {},
     "output_type": "execute_result"
    }
   ],
   "source": [
    "response = gen_content_direct_api(\n",
    "    prompts=[\"Giải phương trình: x^2 + 7x - 3 = 0\"],\n",
    "    model=gemma2,\n",
    ")\n",
    "\n",
    "display.Markdown(response)"
   ]
  },
  {
   "cell_type": "code",
   "execution_count": 16,
   "id": "85028f5a-4f78-4331-8953-10fe8d379f68",
   "metadata": {},
   "outputs": [
    {
     "data": {
      "text/markdown": [
       "Here's how to calculate John's total money:\n",
       "\n",
       "* **Savings Account Interest:**  $110,000 * 0.10 (10%) = $11,000\n",
       "* **Total Savings:** $110,000 + $11,000 = $121,000\n",
       "* **Total Money:** $121,000 + $30,000 = $151,000\n",
       "\n",
       "\n",
       "**Answer:** John has a total of $151,000. \n"
      ],
      "text/plain": [
       "<IPython.core.display.Markdown object>"
      ]
     },
     "execution_count": 16,
     "metadata": {},
     "output_type": "execute_result"
    }
   ],
   "source": [
    "text = \"\"\"\n",
    "John has $30000 cash in a safe deposit. He also has $110000 in saving account in AB bank.\n",
    "Last year interest rate was 10% offered from the AB bank for those saving accounts like John's.\n",
    "Question: how much money does John have?\n",
    "\"\"\"\n",
    "\n",
    "response = gen_content_direct_api(\n",
    "    prompts=[text],\n",
    "    model=gemma2,\n",
    ")\n",
    "\n",
    "display.Markdown(response)"
   ]
  },
  {
   "cell_type": "code",
   "execution_count": 17,
   "id": "ed6d54d0-5c5c-414f-adcb-eda81e722713",
   "metadata": {},
   "outputs": [
    {
     "data": {
      "text/markdown": [
       "To find out how much money John has, we need to add the cash he had in the safe deposit and the amount of savings account he had in the AB bank.\n",
       "\n",
       "Cash in safe deposit = $30,000\n",
       "Savings account balance in AB bank = $110,000\n",
       "Total money = Cash in safe deposit + Savings account balance\n",
       "= $30,000 + $110,000\n",
       "= $140,000\n",
       "\n",
       "John now has a total of $140,000."
      ],
      "text/plain": [
       "<IPython.core.display.Markdown object>"
      ]
     },
     "execution_count": 17,
     "metadata": {},
     "output_type": "execute_result"
    }
   ],
   "source": [
    "text = \"\"\"\n",
    "John has $30000 cash in a safe deposit. He also has $110000 in saving account in AB bank.\n",
    "Last year interest rate was 10% offered from the AB bank for those saving accounts like John's.\n",
    "Question: how much money does John have?\n",
    "\"\"\"\n",
    "\n",
    "response = gen_content_direct_api(\n",
    "    prompts=[text],\n",
    "    model=llama_1b,\n",
    ")\n",
    "\n",
    "display.Markdown(response)"
   ]
  }
 ],
 "metadata": {
  "kernelspec": {
   "display_name": "Python 3 (ipykernel)",
   "language": "python",
   "name": "python3"
  },
  "language_info": {
   "codemirror_mode": {
    "name": "ipython",
    "version": 3
   },
   "file_extension": ".py",
   "mimetype": "text/x-python",
   "name": "python",
   "nbconvert_exporter": "python",
   "pygments_lexer": "ipython3",
   "version": "3.12.7"
  },
  "widgets": {
   "application/vnd.jupyter.widget-state+json": {
    "state": {},
    "version_major": 2,
    "version_minor": 0
   }
  }
 },
 "nbformat": 4,
 "nbformat_minor": 5
}
