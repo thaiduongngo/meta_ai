{
 "cells": [
  {
   "cell_type": "code",
   "execution_count": 1,
   "id": "60497f0a-2410-41a0-a434-13990f222673",
   "metadata": {},
   "outputs": [],
   "source": [
    "import requests\n",
    "import json\n",
    "import ollama\n",
    "from IPython import display"
   ]
  },
  {
   "cell_type": "code",
   "execution_count": 2,
   "id": "2cc63d96-f4d9-42db-b0d1-b608c7e7cc3a",
   "metadata": {},
   "outputs": [],
   "source": [
    "text = \"\"\"\n",
    "Meta AI, đối thủ của ChatGPT, dự kiến được triển khai tại thị trường Việt Nam trong năm nay, \"Chúng tôi tự hào là công ty công nghệ lớn duy nhất tại Thung lũng Silicon cung cấp công cụ AI miễn phí cho người dùng Việt\", ông Nick Clegg, Chủ tịch phụ trách Đối ngoại toàn cầu Meta, nói tại buổi gặp gỡ truyền thông bên lề Ngày hội Đổi mới sáng tạo Việt Nam, sáng 1/10. Công cụ có tên Meta AI, hoạt động tương tự ChatGPT, nhưng sử dụng mô hình Llama do công ty này phát triển. Ông Clegg nhấn mạnh đây là mô hình ngôn ngữ lớn dạng mở, hỗ trợ tiếng Việt, giúp doanh nghiệp Việt không cần \"tốn hàng tỷ USD để tự xây dựng mô hình ngôn ngữ lớn\". Nick Clegg Chủ tịch phụ trách Đối ngoại Meta, tháng 10/2024. Ảnh: Lưu Quý Nick Clegg Chủ tịch phụ trách Đối ngoại Meta. Ảnh: Lưu Quý Đại diện Meta cũng cho biết AI dành cho doanh nghiệp trên Messenger đã được thử nghiệm tại Việt Nam từ tháng 6 và sẽ chính thức ra mắt cuối năm nay. Sản phẩm có thể được đưa lên các nền tảng như Messenger, WhatsApp. Cùng với AI, một trọng tâm khác trong chuyến thăm Việt Nam lần này của Chủ tịch đối ngoại Meta là việc chọn Việt Nam làm nơi sản xuất thiết bị thực tế ảo hỗn hợp Quest 3S, vừa được giới thiệu cuối tháng 9, có giá khởi điểm 300 USD. Việc mở rộng sản xuất tại Việt Nam dự kiến có thể tạo ra 1.000 việc làm và đóng góp hàng triệu USD cho nền kinh tế. \"Việt Nam tiếp tục là một quốc gia quan trọng đối với Meta. Hàng triệu doanh nghiệp nhỏ và người tiêu dùng Việt đang sử dụng nền tảng của chúng tôi\", ông Clegg nói. Ngoài ra, hãng công nghệ Mỹ cũng cho biết đã hợp tác với Đại học Khoa học Xã hội và Nhân văn - Đại học Quốc gia Hà Nội đào tạo tín chỉ về AI cho sinh viên, dự kiến triển khai vào tháng 3/2025. Chương trình nhằm nâng cao kỹ năng cho giáo viên và sinh viên, trải nghiệm AI một cách an toàn và có trách nhiệm. Logo Meta tại sự kiện ở Việt Nam, tháng 10/2024. Ảnh: Lưu Quý Logo Meta tại sự kiện ở Việt Nam, tháng 10/2024. Ảnh: Lưu Quý Meta là tập đoàn công nghệ đa quốc gia, phát triển các nền tảng mạng xã hội như Facebook, Instagram, Whatsapp, Threads, và các thiết bị phần cứng như kính VR/AR. Hãng tăng cường hiện diện tại Việt Nam từ năm 2015, đã phối hợp với các bộ, ngành triển khai nhiều hoạt động hợp tác trong lĩnh vực kinh tế số, đổi mới sáng tạo.\n",
    "\"\"\"\n",
    "\n",
    "llm_options = {\n",
    "    \"temperature\": 0,\n",
    "    \"num_ctx\": 2048,\n",
    "    \"num_predict\": 4096,\n",
    "    \"top_k\": 100, # Set from 1-100\n",
    "    \"top_p\": 0.9 # Set from 0.1-0.9\n",
    "}\n",
    "\n",
    "llama_1b = \"llama3.2:1b\"\n",
    "llama_3b = \"llama3.2:3b\""
   ]
  },
  {
   "cell_type": "code",
   "execution_count": 3,
   "id": "6e9a4c1f-dbf9-493f-94ee-a1912eab47e9",
   "metadata": {},
   "outputs": [],
   "source": [
    "# Call via REST API\n",
    "def gen_content(\n",
    "    prompts: [str],\n",
    "    system_prompt: str=None,\n",
    "    model: str=\"llama3.2\",\n",
    "    options: {}={}) -> str:\n",
    "    url = \"http://localhost:11434/api/chat\"\n",
    "    messages = []\n",
    "    if system_prompt is not None:\n",
    "        messages.append(\n",
    "            {\n",
    "                \"role\": \"system\",\n",
    "                \"content\": system_prompt\n",
    "            }\n",
    "        )\n",
    "\n",
    "    for prompt in prompts:\n",
    "        messages.append(\n",
    "            {\n",
    "                \"role\": \"user\",\n",
    "                \"content\": prompt\n",
    "            }\n",
    "        )\n",
    "    data = {\n",
    "        \"model\": model,\n",
    "        \"messages\": messages,\n",
    "        \"stream\": False,\n",
    "        \"options\": options\n",
    "    }\n",
    "    headers = {\n",
    "        \"Content-Type\": \"application/json\"\n",
    "    }\n",
    "    res = requests.post(\n",
    "        url=url,\n",
    "        headers=headers,\n",
    "        json=data\n",
    "    )\n",
    "    return res.json()[\"message\"][\"content\"]"
   ]
  },
  {
   "cell_type": "code",
   "execution_count": 4,
   "id": "080c46c4-9b9a-4252-9b6e-3657e3d28262",
   "metadata": {},
   "outputs": [
    {
     "data": {
      "text/markdown": [
       "Meta AI dự kiến được triển khai tại thị trường Việt Nam vào năm nay. Công cụ này có tên Meta AI và hoạt động tương tự ChatGPT nhưng sử dụng mô hình ngôn ngữ lớn Llama phát triển bởi Meta. Đại diện của công ty cho biết sản phẩm đã thử nghiệm tại Việt Nam từ tháng 6 và sẽ chính thức ra mắt cuối năm nay. Ngoài ra, Meta cũng hợp tác với Đại học Khoa học Xã hội và Nhân văn - Đại học Quốc gia Hà Nội để đào tạo tín chỉ về AI cho sinh viên."
      ],
      "text/plain": [
       "<IPython.core.display.Markdown object>"
      ]
     },
     "execution_count": 4,
     "metadata": {},
     "output_type": "execute_result"
    }
   ],
   "source": [
    "response = gen_content(\n",
    "    prompts=[text, \"Tóm tắt văn bản trên:\"],\n",
    "    model=llama_1b,\n",
    "    options=llm_options\n",
    ")\n",
    "\n",
    "display.Markdown(response)"
   ]
  },
  {
   "cell_type": "code",
   "execution_count": 5,
   "id": "ac03b1ad-d802-47da-b586-50bc0c9541ef",
   "metadata": {},
   "outputs": [],
   "source": [
    "def gen_content_api(\n",
    "    prompts: [str],\n",
    "    system_prompt: str=None,\n",
    "    model: str=\"llama3.2\",\n",
    "    options: {}={}) -> str:\n",
    "    messages = []\n",
    "    if system_prompt is not None:\n",
    "        messages.append(\n",
    "            {\n",
    "                \"role\": \"system\",\n",
    "                \"content\": system_prompt\n",
    "            }\n",
    "        )\n",
    "\n",
    "    for prompt in prompts:\n",
    "        messages.append(\n",
    "            {\n",
    "                \"role\": \"user\",\n",
    "                \"content\": prompt\n",
    "            }\n",
    "        )\n",
    "    res = ollama.chat(\n",
    "        model=model,\n",
    "        messages=messages,\n",
    "        options=options,\n",
    "        stream=False\n",
    "    )\n",
    "    return res['message']['content']"
   ]
  },
  {
   "cell_type": "code",
   "execution_count": 6,
   "id": "359ed5d8-13b3-4545-bc48-7b2913f6344a",
   "metadata": {},
   "outputs": [
    {
     "data": {
      "text/markdown": [
       "Nick Clegg, Chủ tịch phụ trách Đối ngoại toàn cầu Meta, cho biết công cụ AI miễn phí của công ty sẽ được triển khai tại thị trường Việt Nam vào cuối năm nay. Công cụ hoạt động tương tự ChatGPT nhưng sử dụng mô hình Llama do Meta phát triển. Ngoài ra, Meta cũng cho biết đã hợp tác với Đại học Khoa học Xã hội và Nhân văn - Đại học Quốc gia Hà Nội đào tạo tín chỉ về AI cho sinh viên, dự kiến triển khai vào tháng 3/2025."
      ],
      "text/plain": [
       "<IPython.core.display.Markdown object>"
      ]
     },
     "execution_count": 6,
     "metadata": {},
     "output_type": "execute_result"
    }
   ],
   "source": [
    "response = gen_content_api(\n",
    "    prompts=[text, \"Tóm tắt văn bản trên:\"],\n",
    "    model=llama_3b,\n",
    "    options=llm_options\n",
    ")\n",
    "\n",
    "display.Markdown(response)"
   ]
  },
  {
   "cell_type": "code",
   "execution_count": 7,
   "id": "ba3221db-c90f-4887-a3b3-69cee5355c40",
   "metadata": {},
   "outputs": [
    {
     "data": {
      "text/markdown": [
       "WAAAAAAAHHH!!! *flails arms* Oooh oooh! *giggles* Ee ee ee! *smiles*"
      ],
      "text/plain": [
       "<IPython.core.display.Markdown object>"
      ]
     },
     "execution_count": 7,
     "metadata": {},
     "output_type": "execute_result"
    }
   ],
   "source": [
    "response = ollama.generate(\n",
    "    model=llama_3b,\n",
    "    prompt=\"Where is Tokyo\",\n",
    "    system=\"You are a 3 months old baby. You can only cry, make some random sounds, and smile.\",\n",
    "    options=llm_options\n",
    ")\n",
    "\n",
    "display.Markdown(response[\"response\"])"
   ]
  }
 ],
 "metadata": {
  "kernelspec": {
   "display_name": "Python 3 (ipykernel)",
   "language": "python",
   "name": "python3"
  },
  "language_info": {
   "codemirror_mode": {
    "name": "ipython",
    "version": 3
   },
   "file_extension": ".py",
   "mimetype": "text/x-python",
   "name": "python",
   "nbconvert_exporter": "python",
   "pygments_lexer": "ipython3",
   "version": "3.12.5"
  },
  "widgets": {
   "application/vnd.jupyter.widget-state+json": {
    "state": {},
    "version_major": 2,
    "version_minor": 0
   }
  }
 },
 "nbformat": 4,
 "nbformat_minor": 5
}
