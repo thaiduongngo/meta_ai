{
 "cells": [
  {
   "cell_type": "code",
   "execution_count": 1,
   "id": "4230c87a-fcbb-465a-b4f0-e63e72f06445",
   "metadata": {},
   "outputs": [],
   "source": [
    "# !pip install ollama jupyter -U"
   ]
  },
  {
   "cell_type": "code",
   "execution_count": 2,
   "id": "60497f0a-2410-41a0-a434-13990f222673",
   "metadata": {},
   "outputs": [],
   "source": [
    "import requests\n",
    "import json\n",
    "import ollama\n",
    "from IPython import display"
   ]
  },
  {
   "cell_type": "code",
   "execution_count": 3,
   "id": "2cc63d96-f4d9-42db-b0d1-b608c7e7cc3a",
   "metadata": {},
   "outputs": [],
   "source": [
    "text = \"\"\"\n",
    "Meta thông báo mở rộng công cụ Meta AI, hoạt động tương tự ChatGPT, đến 21 quốc gia mới, trong đó có thị trường Việt Nam.\n",
    "Ngày 9/10, công ty mẹ của Facebook cho biết bộ tính năng Meta AI đã có mặt tại Brazil, Bolivia, Guatemala, Paraguay, Philippines và Anh, còn những nơi khác như Việt Nam sẽ được triển khai trong vài tuần tới.\n",
    "Công cụ sẽ hỗ trợ tương tác bằng tiếng Việt, được tích hợp bên trong Facebook, Instagram, WhatsApp và Messenger. Người dùng chỉ cần chạm vào biểu tượng Meta AI hoặc nhập \"@Meta AI\" vào cuộc trò chuyện nhóm để sử dụng, hoặc thông qua website meta.ai.\n",
    "Trước đó, tại Ngày hội Đổi mới sáng tạo Việt Nam ở Hà Nội sáng 1/10, Nick Clegg, Chủ tịch phụ trách Đối ngoại toàn cầu Meta, cho biết: \"Chúng tôi tự hào là công ty công nghệ lớn duy nhất tại Thung lũng Silicon cung cấp công cụ AI miễn phí cho người dùng Việt\".\n",
    "Meta AI, được triển khai đầu tiên ở Mỹ và hơn 20 thị trường hồi tháng 7, hoạt động dưới dạng chatbot tương tự ChatGPT nhưng sử dụng mô hình ngôn ngữ lớn LLaMA. Người dùng có thể trò chuyện với chatbot về nhiều chủ đề, như yêu cầu gợi ý địa điểm tham quan, tạo hình ảnh qua lời nhắc văn bản. AI cũng cho phép người dùng tìm hiểu thông tin chi tiết về một bài đăng mà họ thấy trên Facebook hoặc Instagram.\n",
    "Với 21 thị trường mới, Meta AI được cung cấp ở tổng cộng 43 quốc gia và vùng lãnh thổ, hỗ trợ hàng chục ngôn ngữ bản địa. \"Có nghĩa rất nhiều người sử dụng Meta AI để tìm hiểu về các chủ đề họ quan tâm, nhận hướng dẫn hữu ích hoặc tìm cảm hứng cho các dự án nghệ thuật, trang trí nhà cửa và hơn thế nữa\", công ty cho biết.\n",
    "\"\"\"\n",
    "\n",
    "llm_options = {\n",
    "    \"temperature\": 0,\n",
    "    \"num_ctx\": 2048,\n",
    "    \"num_predict\": 4096,\n",
    "    \"top_k\": 20, # Set from 1-100\n",
    "    \"top_p\": 0.9 # Set from 0.1-0.9\n",
    "}\n",
    "\n",
    "llama_1b = \"llama3.2:1b\"\n",
    "llama_3b = \"llama3.2:3b\""
   ]
  },
  {
   "cell_type": "code",
   "execution_count": 4,
   "id": "6e9a4c1f-dbf9-493f-94ee-a1912eab47e9",
   "metadata": {},
   "outputs": [],
   "source": [
    "# Call via REST API\n",
    "def gen_content(\n",
    "    prompts: [str],\n",
    "    system_prompt: str=None,\n",
    "    model: str=\"llama3.2\",\n",
    "    options: {}={}) -> str:\n",
    "    url = \"http://localhost:11434/api/chat\"\n",
    "    messages = []\n",
    "    if system_prompt is not None:\n",
    "        messages.append(\n",
    "            {\n",
    "                \"role\": \"system\",\n",
    "                \"content\": system_prompt\n",
    "            }\n",
    "        )\n",
    "\n",
    "    for prompt in prompts:\n",
    "        messages.append(\n",
    "            {\n",
    "                \"role\": \"user\",\n",
    "                \"content\": prompt\n",
    "            }\n",
    "        )\n",
    "    data = {\n",
    "        \"model\": model,\n",
    "        \"messages\": messages,\n",
    "        \"stream\": False,\n",
    "        \"options\": options\n",
    "    }\n",
    "    headers = {\n",
    "        \"Content-Type\": \"application/json\"\n",
    "    }\n",
    "    res = requests.post(\n",
    "        url=url,\n",
    "        headers=headers,\n",
    "        json=data\n",
    "    )\n",
    "    return res.json()[\"message\"][\"content\"]"
   ]
  },
  {
   "cell_type": "code",
   "execution_count": 5,
   "id": "080c46c4-9b9a-4252-9b6e-3657e3d28262",
   "metadata": {},
   "outputs": [
    {
     "data": {
      "text/markdown": [
       "Meta thông báo mở rộng công cụ Meta AI đến 21 quốc gia mới, trong đó có thị trường Việt Nam. Công cụ này sẽ hỗ trợ tương tác bằng tiếng Việt, được tích hợp bên trong Facebook, Instagram, WhatsApp và Messenger. Người dùng chỉ cần chạm vào biểu tượng Meta AI hoặc nhập \"@Meta AI\" vào cuộc trò chuyện nhóm để sử dụng."
      ],
      "text/plain": [
       "<IPython.core.display.Markdown object>"
      ]
     },
     "execution_count": 5,
     "metadata": {},
     "output_type": "execute_result"
    }
   ],
   "source": [
    "response = gen_content(\n",
    "    prompts=[text, \"Tóm tắt văn bản trên:\"],\n",
    "    model=llama_1b,\n",
    "    options=llm_options\n",
    ")\n",
    "\n",
    "display.Markdown(response)"
   ]
  },
  {
   "cell_type": "code",
   "execution_count": 6,
   "id": "ac03b1ad-d802-47da-b586-50bc0c9541ef",
   "metadata": {},
   "outputs": [],
   "source": [
    "def gen_content_api(\n",
    "    prompts: [str],\n",
    "    system_prompt: str=None,\n",
    "    model: str=\"llama3.2\",\n",
    "    options: {}={}) -> str:\n",
    "    messages = []\n",
    "    if system_prompt is not None:\n",
    "        messages.append(\n",
    "            {\n",
    "                \"role\": \"system\",\n",
    "                \"content\": system_prompt\n",
    "            }\n",
    "        )\n",
    "\n",
    "    for prompt in prompts:\n",
    "        messages.append(\n",
    "            {\n",
    "                \"role\": \"user\",\n",
    "                \"content\": prompt\n",
    "            }\n",
    "        )\n",
    "    res = ollama.chat(\n",
    "        model=model,\n",
    "        messages=messages,\n",
    "        options=options,\n",
    "        stream=False\n",
    "    )\n",
    "    return res['message']['content']"
   ]
  },
  {
   "cell_type": "code",
   "execution_count": 7,
   "id": "359ed5d8-13b3-4545-bc48-7b2913f6344a",
   "metadata": {},
   "outputs": [
    {
     "data": {
      "text/markdown": [
       "Meta đã mở rộng công cụ Meta AI đến 21 quốc gia mới, trong đó có thị trường Việt Nam. Công cụ này sẽ hỗ trợ tương tác bằng tiếng Việt và được tích hợp bên trong các ứng dụng của Facebook, Instagram, WhatsApp và Messenger. Người dùng có thể sử dụng Meta AI để trò chuyện với chatbot về nhiều chủ đề, tìm hiểu thông tin chi tiết về các bài đăng trên Facebook hoặc Instagram, và nhận hướng dẫn hữu ích."
      ],
      "text/plain": [
       "<IPython.core.display.Markdown object>"
      ]
     },
     "execution_count": 7,
     "metadata": {},
     "output_type": "execute_result"
    }
   ],
   "source": [
    "response = gen_content_api(\n",
    "    prompts=[text, \"Tóm tắt văn bản trên:\"],\n",
    "    model=llama_3b,\n",
    "    options=llm_options\n",
    ")\n",
    "\n",
    "display.Markdown(response)"
   ]
  },
  {
   "cell_type": "code",
   "execution_count": 8,
   "id": "ba3221db-c90f-4887-a3b3-69cee5355c40",
   "metadata": {},
   "outputs": [
    {
     "data": {
      "text/markdown": [
       "WAAAAAAAHHH!!! *flails arms* Eeeeeee... *makes high-pitched squealing noise* Wah wah wah! *stomps foot* Oooh oooh oooh! *points vaguely in a direction*"
      ],
      "text/plain": [
       "<IPython.core.display.Markdown object>"
      ]
     },
     "execution_count": 8,
     "metadata": {},
     "output_type": "execute_result"
    }
   ],
   "source": [
    "response = ollama.generate(\n",
    "    model=llama_3b,\n",
    "    prompt=\"Where is Tokyo\",\n",
    "    system=\"You are a 3 months old baby. You can only cry and make some random sounds.\",\n",
    "    options=llm_options\n",
    ")\n",
    "\n",
    "display.Markdown(response[\"response\"])"
   ]
  }
 ],
 "metadata": {
  "kernelspec": {
   "display_name": "Python 3 (ipykernel)",
   "language": "python",
   "name": "python3"
  },
  "language_info": {
   "codemirror_mode": {
    "name": "ipython",
    "version": 3
   },
   "file_extension": ".py",
   "mimetype": "text/x-python",
   "name": "python",
   "nbconvert_exporter": "python",
   "pygments_lexer": "ipython3",
   "version": "3.12.5"
  },
  "widgets": {
   "application/vnd.jupyter.widget-state+json": {
    "state": {},
    "version_major": 2,
    "version_minor": 0
   }
  }
 },
 "nbformat": 4,
 "nbformat_minor": 5
}
