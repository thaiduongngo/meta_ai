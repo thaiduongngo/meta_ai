{
 "cells": [
  {
   "cell_type": "code",
   "execution_count": 1,
   "id": "60497f0a-2410-41a0-a434-13990f222673",
   "metadata": {},
   "outputs": [],
   "source": [
    "from typing import List, Dict\n",
    "import ollama"
   ]
  },
  {
   "cell_type": "markdown",
   "id": "ace449c3-6361-401b-bac3-d8c7d3ed273b",
   "metadata": {},
   "source": [
    "**Documentation**:\n",
    "https://github.com/ollama/ollama/tree/main/docs"
   ]
  },
  {
   "cell_type": "code",
   "execution_count": 2,
   "id": "2cc63d96-f4d9-42db-b0d1-b608c7e7cc3a",
   "metadata": {},
   "outputs": [],
   "source": [
    "# LLM options\n",
    "llm_options = {\n",
    "  \"temperature\": 0,\n",
    "  \"num_ctx\": 2048,\n",
    "  \"num_predict\": 4096,\n",
    "  \"top_k\": 20,\n",
    "  \"top_p\": 0.95,\n",
    "}\n",
    "\n",
    "# Do \"ollama pull' to fetch a model to local. E.g: ollama pull llama3.1\n",
    "llama_1b = \"llama3.2:1b\"\n",
    "llama_3b = \"llama3.2:3b\"\n",
    "llama_8b = \"llama3.1:8b\""
   ]
  },
  {
   "cell_type": "code",
   "execution_count": 3,
   "id": "82db7d5c",
   "metadata": {},
   "outputs": [],
   "source": [
    "def calculate_interest_amount(amount: float) -> float:\n",
    "  \"\"\"\n",
    "  Calculate interest amount from original amount.\n",
    "\n",
    "  Args:\n",
    "    amount: original amount in float\n",
    "  Returns:\n",
    "    float: interest amount in float\n",
    "  \"\"\"\n",
    "  return amount*0.11\n",
    "\n",
    "def sum_of_two(a: float, b: float) -> float:\n",
    "  \"\"\"\n",
    "  Arithmetic sum or plus two numbers\n",
    "\n",
    "  Args:\n",
    "    a: the first float number\n",
    "    b: the second float number\n",
    "  Returns:\n",
    "    float: sum number\n",
    "  \"\"\"\n",
    "  return a+b\n",
    "\n",
    "functions = {\n",
    "  \"calculate_interest_amount\": calculate_interest_amount,\n",
    "  \"sum_of_two\": sum_of_two,\n",
    "}\n",
    "\n",
    "tools = [calculate_interest_amount, sum_of_two]"
   ]
  },
  {
   "cell_type": "code",
   "execution_count": 4,
   "id": "54fb0933",
   "metadata": {},
   "outputs": [
    {
     "name": "stdout",
     "output_type": "stream",
     "text": [
      "Function output: 110.0\n"
     ]
    }
   ],
   "source": [
    "response = ollama.chat(\n",
    "  llama_8b,\n",
    "  messages=[\n",
    "    {\n",
    "      \"role\": \"user\",\n",
    "      \"content\": \"I deposit $1000, one year later, how much the interest amount will be?\"\n",
    "    },\n",
    "  ],\n",
    "  tools=tools,\n",
    "  options=llm_options,\n",
    ")\n",
    "\n",
    "for tool in response.message.tool_calls:\n",
    "  fn = functions.get(tool.function.name)\n",
    "  if fn:\n",
    "    print(\"Function output:\", fn(**tool.function.arguments))\n",
    "  else:\n",
    "    print(\"Function not found:\", tool.function.name)"
   ]
  },
  {
   "cell_type": "code",
   "execution_count": 5,
   "id": "ed50eaeb",
   "metadata": {},
   "outputs": [
    {
     "name": "stdout",
     "output_type": "stream",
     "text": [
      "Function output: 132\n"
     ]
    }
   ],
   "source": [
    "response = ollama.chat(\n",
    "  llama_8b,\n",
    "  messages=[\n",
    "    {\n",
    "      \"role\": \"user\",\n",
    "      \"content\": \"What is 31 + 101?\"\n",
    "    },\n",
    "  ],\n",
    "  tools=tools,\n",
    "  options=llm_options,\n",
    ")\n",
    "\n",
    "for tool in response.message.tool_calls:\n",
    "  fn = functions.get(tool.function.name)\n",
    "  if fn:\n",
    "    print(\"Function output:\", fn(**tool.function.arguments))\n",
    "  else:\n",
    "    print(\"Function not found:\", tool.function.name)"
   ]
  }
 ],
 "metadata": {
  "kernelspec": {
   "display_name": "meta-llm",
   "language": "python",
   "name": "python3"
  },
  "language_info": {
   "codemirror_mode": {
    "name": "ipython",
    "version": 3
   },
   "file_extension": ".py",
   "mimetype": "text/x-python",
   "name": "python",
   "nbconvert_exporter": "python",
   "pygments_lexer": "ipython3",
   "version": "3.12.7"
  },
  "widgets": {
   "application/vnd.jupyter.widget-state+json": {
    "state": {},
    "version_major": 2,
    "version_minor": 0
   }
  }
 },
 "nbformat": 4,
 "nbformat_minor": 5
}
